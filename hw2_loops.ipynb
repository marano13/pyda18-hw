{
 "cells": [
  {
   "cell_type": "markdown",
   "metadata": {},
   "source": [
    "## Задание 1"
   ]
  },
  {
   "cell_type": "code",
   "execution_count": 12,
   "metadata": {},
   "outputs": [
    {
     "name": "stdout",
     "output_type": "stream",
     "text": [
      "Введите слово: test\n",
      "es\n"
     ]
    }
   ],
   "source": [
    "word = input('Введите слово: ')\n",
    "length = len(word)\n",
    "if len(word) % 2 == 0:\n",
    "    ind1 = length/2 - 1\n",
    "    ind2 = length/2\n",
    "    print(word[int(ind1)]+word[int(ind2)])\n",
    "else:\n",
    "    ind = length//2\n",
    "    print(word[int(ind)])"
   ]
  },
  {
   "cell_type": "markdown",
   "metadata": {},
   "source": [
    "## Задание 2"
   ]
  },
  {
   "cell_type": "code",
   "execution_count": 20,
   "metadata": {},
   "outputs": [
    {
     "name": "stdout",
     "output_type": "stream",
     "text": [
      "Введите число: 13\n",
      "Введите число: 12\n",
      "Введите число: 9\n",
      "Введите число: 0\n",
      "Результат:  34\n"
     ]
    }
   ],
   "source": [
    "num = int(input('Введите число: '))\n",
    "num_sum = 0\n",
    "while num != 0:\n",
    "    num_sum += num\n",
    "    num = int(input('Введите число: '))\n",
    "print('Результат: ', num_sum)"
   ]
  },
  {
   "cell_type": "markdown",
   "metadata": {},
   "source": [
    "## Задание 3"
   ]
  },
  {
   "cell_type": "code",
   "execution_count": 59,
   "metadata": {},
   "outputs": [
    {
     "name": "stdout",
     "output_type": "stream",
     "text": [
      "Идеальные пары:\n",
      "Alex и Emma\n",
      "Arthur и Kate\n",
      "John и Kira\n",
      "Peter и Liza\n",
      "Richard и Trisha\n"
     ]
    }
   ],
   "source": [
    "boys = ['Peter', 'Alex', 'John', 'Arthur', 'Richard']\n",
    "girls = ['Kate', 'Liza', 'Kira', 'Emma', 'Trisha']\n",
    "boys_s = sorted(boys)\n",
    "girls_s = sorted(girls)\n",
    "zipped = zip(boys_s,girls_s)\n",
    "\n",
    "if len(boys) == len(girls):\n",
    "    pairs = list(zipped)\n",
    "    print('Идеальные пары:')\n",
    "    for i in pairs:\n",
    "        print((f'{i[0]} и {i[1]}'))\n",
    "else:\n",
    "    print('Внимание, кто-то может остаться без пары!')"
   ]
  },
  {
   "cell_type": "code",
   "execution_count": 60,
   "metadata": {},
   "outputs": [
    {
     "name": "stdout",
     "output_type": "stream",
     "text": [
      "Внимание, кто-то может остаться без пары!\n"
     ]
    }
   ],
   "source": [
    "boys = ['Peter', 'Alex', 'John', 'Arthur', 'Richard', 'Michael']\n",
    "girls = ['Kate', 'Liza', 'Kira', 'Emma', 'Trisha']\n",
    "boys_s = sorted(boys)\n",
    "girls_s = sorted(girls)\n",
    "zipped = zip(boys_s,girls_s)\n",
    "\n",
    "if len(boys) == len(girls):\n",
    "    pairs = list(zipped)\n",
    "    print('Идеальные пары:')\n",
    "    for i in pairs:\n",
    "        print((f'{i[0]} и {i[1]}'))\n",
    "else:\n",
    "    print('Внимание, кто-то может остаться без пары!')"
   ]
  },
  {
   "cell_type": "markdown",
   "metadata": {},
   "source": [
    "## Задание 4"
   ]
  },
  {
   "cell_type": "code",
   "execution_count": 73,
   "metadata": {},
   "outputs": [
    {
     "name": "stdout",
     "output_type": "stream",
     "text": [
      "Средняя температура в странах:\n",
      "Thailand - 23.9 C\n",
      "Germany - 13.8 C\n",
      "Russia - 3.7 C\n",
      "Poland - 12.0 C\n"
     ]
    }
   ],
   "source": [
    "countries_temperature = [\n",
    "    ['Thailand', [75.2, 77, 78.8, 73.4, 68, 75.2, 77]],\n",
    "    ['Germany', [57.2, 55.4, 59, 59, 53.6]],\n",
    "    ['Russia', [35.6, 37.4, 39.2, 41, 42.8, 39.2, 35.6]],\n",
    "    ['Poland', [50, 50, 53.6, 57.2, 55.4, 55.4]]\n",
    "]\n",
    "\n",
    "temp_mean = 0.0\n",
    "celsius = 0.0\n",
    "print('Средняя температура в странах:')\n",
    "for country in countries_temperature:\n",
    "    temp_mean = sum(country[1])/len(country[1])\n",
    "    celsius = (temp_mean - 32)*(5/9)\n",
    "    print(country[0], '-', round(celsius,1), 'C')"
   ]
  }
 ],
 "metadata": {
  "kernelspec": {
   "display_name": "Python 3",
   "language": "python",
   "name": "python3"
  },
  "language_info": {
   "codemirror_mode": {
    "name": "ipython",
    "version": 3
   },
   "file_extension": ".py",
   "mimetype": "text/x-python",
   "name": "python",
   "nbconvert_exporter": "python",
   "pygments_lexer": "ipython3",
   "version": "3.8.5"
  }
 },
 "nbformat": 4,
 "nbformat_minor": 4
}
