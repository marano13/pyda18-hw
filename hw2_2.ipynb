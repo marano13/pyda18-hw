{
 "cells": [
  {
   "cell_type": "markdown",
   "metadata": {},
   "source": [
    "## Задание 1"
   ]
  },
  {
   "cell_type": "code",
   "execution_count": 152,
   "metadata": {},
   "outputs": [
    {
     "name": "stdout",
     "output_type": "stream",
     "text": [
      "{98, 35, 15, 213, 54, 119}\n"
     ]
    },
    {
     "data": {
      "text/plain": [
       "{15, 35, 54, 98, 119, 213}"
      ]
     },
     "execution_count": 152,
     "metadata": {},
     "output_type": "execute_result"
    }
   ],
   "source": [
    "ids = {'user1': [213, 213, 213, 15, 213], \n",
    "       'user2': [54, 54, 119, 119, 119], \n",
    "       'user3': [213, 98, 98, 35]}\n",
    "# вариант 1\n",
    "unique = []\n",
    "for geo in ids.values():\n",
    "    unique = unique + geo\n",
    "print(set(unique))\n",
    "        \n",
    "# вариант 2\n",
    "set(sum(list(ids.values()), []))"
   ]
  },
  {
   "cell_type": "markdown",
   "metadata": {},
   "source": [
    "## Задание 2"
   ]
  },
  {
   "cell_type": "code",
   "execution_count": 95,
   "metadata": {
    "scrolled": true
   },
   "outputs": [
    {
     "name": "stdout",
     "output_type": "stream",
     "text": [
      "Поисковых запросов, содержащих 2 слов(а): 42.86 %\n",
      "Поисковых запросов, содержащих 3 слов(а): 57.14 %\n"
     ]
    }
   ],
   "source": [
    "queries = [\n",
    "    'смотреть сериалы онлайн',\n",
    "    'новости спорта',\n",
    "    'афиша кино',\n",
    "    'курс доллара',\n",
    "    'сериалы этим летом',\n",
    "    'курс по питону',\n",
    "    'сериалы про спорт',\n",
    "]\n",
    "\n",
    "number = {}\n",
    "for strings in queries:\n",
    "    words = strings.split()\n",
    "    number[strings] = int(len(words))\n",
    "\n",
    "num = list(number.values())\n",
    "sum_2 = num.count(2)\n",
    "sum_3 = num.count(3)\n",
    "percentage_3 = sum_3/len(num)*100\n",
    "percentage_2 = sum_2/len(num)*100\n",
    "print(f'Поисковых запросов, содержащих 2 слов(а): {round(percentage_2, 2)} %')\n",
    "print(f'Поисковых запросов, содержащих 3 слов(а): {round(percentage_3, 2)} %')"
   ]
  },
  {
   "cell_type": "markdown",
   "metadata": {},
   "source": [
    "### вопрос по задаче"
   ]
  },
  {
   "cell_type": "code",
   "execution_count": 101,
   "metadata": {},
   "outputs": [
    {
     "name": "stdout",
     "output_type": "stream",
     "text": [
      "Поисковых запросов, содержащих 2 слов(а): 0.0 %\n",
      "Поисковых запросов, содержащих 3 слов(а): 14.29 %\n"
     ]
    }
   ],
   "source": [
    "#Изначально пыталась решить через for, но по какой-то причине у меня не обновляются переменные sum_3 и sum_2. Что я упускаю?\n",
    "\n",
    "number = {}\n",
    "for strings in queries:\n",
    "    words = strings.split()\n",
    "    number[strings] = int(len(words))\n",
    "    \n",
    "for count in number.values():\n",
    "    sum_2 = 0\n",
    "    sum_3 = 0\n",
    "    if count == 3:\n",
    "        sum_3 += 1\n",
    "    else:\n",
    "        sum_2 += 1\n",
    "percentage_3 = sum_3/len(number.values())*100\n",
    "percentage_2 = sum_2/len(number.values())*100\n",
    "print(f'Поисковых запросов, содержащих 2 слов(а): {round(percentage_2, 2)} %')\n",
    "print(f'Поисковых запросов, содержащих 3 слов(а): {round(percentage_3, 2)} %')"
   ]
  },
  {
   "cell_type": "markdown",
   "metadata": {},
   "source": [
    "## Задание 3"
   ]
  },
  {
   "cell_type": "code",
   "execution_count": 138,
   "metadata": {},
   "outputs": [
    {
     "name": "stdout",
     "output_type": "stream",
     "text": [
      "[('adwords', {'revenue': 35, 'cost': 34, 'ROI': 2.94}), ('facebook', {'revenue': 103, 'cost': 110, 'ROI': -6.36}), ('twitter', {'revenue': 11, 'cost': 24, 'ROI': -54.17}), ('vk', {'revenue': 103, 'cost': 98, 'ROI': 5.1}), ('yandex', {'revenue': 179, 'cost': 153, 'ROI': 16.99})]\n"
     ]
    },
    {
     "data": {
      "text/plain": [
       "list"
      ]
     },
     "execution_count": 138,
     "metadata": {},
     "output_type": "execute_result"
    }
   ],
   "source": [
    "results = {\n",
    "    'vk': {'revenue': 103, 'cost': 98},\n",
    "    'yandex': {'revenue': 179, 'cost': 153},\n",
    "    'facebook': {'revenue': 103, 'cost': 110},\n",
    "    'adwords': {'revenue': 35, 'cost': 34},\n",
    "    'twitter': {'revenue': 11, 'cost': 24},\n",
    "}\n",
    "\n",
    "res = sorted(results.items())\n",
    "for company,financials in sorted(res):\n",
    "    financials['ROI'] = round((financials['revenue'] / financials['cost'] - 1) * 100, 2)\n",
    "print(res)\n",
    "\n",
    "#в примере к заданию результат был отсортирован по алфавиту, когда я это делаю, у меня тип меняется со словаря на список, \n",
    "#но судя по скобкам в задании так быть не должно?\n",
    "type(res)"
   ]
  },
  {
   "cell_type": "markdown",
   "metadata": {},
   "source": [
    "## Задание 4"
   ]
  },
  {
   "cell_type": "code",
   "execution_count": 140,
   "metadata": {},
   "outputs": [
    {
     "name": "stdout",
     "output_type": "stream",
     "text": [
      "Максимальный объем продаж на рекламном канале: vk\n"
     ]
    }
   ],
   "source": [
    "stats = {'facebook': 55, 'yandex': 115, 'vk': 120, 'google': 99, 'email': 42, 'ok': 98}\n",
    "\n",
    "print(f'Максимальный объем продаж на рекламном канале: {max(stats, key=lambda key: stats[key])}')"
   ]
  }
 ],
 "metadata": {
  "kernelspec": {
   "display_name": "Python 3",
   "language": "python",
   "name": "python3"
  },
  "language_info": {
   "codemirror_mode": {
    "name": "ipython",
    "version": 3
   },
   "file_extension": ".py",
   "mimetype": "text/x-python",
   "name": "python",
   "nbconvert_exporter": "python",
   "pygments_lexer": "ipython3",
   "version": "3.8.5"
  }
 },
 "nbformat": 4,
 "nbformat_minor": 4
}
